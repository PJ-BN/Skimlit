{
  "cells": [
    {
      "cell_type": "markdown",
      "id": "df661aa2",
      "metadata": {
        "id": "df661aa2"
      },
      "source": [
        "# Project : Skimlit\n",
        "\n",
        "The purpose of thi notebook is to create a NLP model to make reading medical abstract easier.\n",
        "\n"
      ]
    },
    {
      "cell_type": "markdown",
      "id": "bbea439b",
      "metadata": {
        "id": "bbea439b"
      },
      "source": [
        "## Get data\n",
        "\n",
        "Since we are creating a NLP model , we'll be replecating the paper of **Padmed 200k RCT**, let's download the dataset that they used  "
      ]
    },
    {
      "cell_type": "code",
      "source": [
        "!wget https://raw.githubusercontent.com/PJ-BN/Helper-module/main/helperfunc.py\n"
      ],
      "metadata": {
        "colab": {
          "base_uri": "https://localhost:8080/"
        },
        "id": "dRmxsJL_P68T",
        "outputId": "3d3177f3-8a2c-4091-d612-cbe72dfc8290"
      },
      "id": "dRmxsJL_P68T",
      "execution_count": 1,
      "outputs": [
        {
          "output_type": "stream",
          "name": "stdout",
          "text": [
            "--2023-01-26 04:02:36--  https://raw.githubusercontent.com/PJ-BN/Helper-module/main/helperfunc.py\n",
            "Resolving raw.githubusercontent.com (raw.githubusercontent.com)... 185.199.108.133, 185.199.109.133, 185.199.110.133, ...\n",
            "Connecting to raw.githubusercontent.com (raw.githubusercontent.com)|185.199.108.133|:443... connected.\n",
            "HTTP request sent, awaiting response... 200 OK\n",
            "Length: 10449 (10K) [text/plain]\n",
            "Saving to: ‘helperfunc.py’\n",
            "\n",
            "\rhelperfunc.py         0%[                    ]       0  --.-KB/s               \rhelperfunc.py       100%[===================>]  10.20K  --.-KB/s    in 0s      \n",
            "\n",
            "2023-01-26 04:02:36 (97.0 MB/s) - ‘helperfunc.py’ saved [10449/10449]\n",
            "\n"
          ]
        }
      ]
    },
    {
      "cell_type": "code",
      "source": [
        "from helperfunc import unzip_data"
      ],
      "metadata": {
        "id": "ch5IJRbiQAp7"
      },
      "id": "ch5IJRbiQAp7",
      "execution_count": 2,
      "outputs": []
    },
    {
      "cell_type": "code",
      "source": [
        "unzip_data(\"PubMed_20k_RCT_numbers_replaced_with_at_sign.zip\")"
      ],
      "metadata": {
        "id": "P5QhiKzLRa0r"
      },
      "id": "P5QhiKzLRa0r",
      "execution_count": 10,
      "outputs": []
    },
    {
      "cell_type": "code",
      "execution_count": 11,
      "id": "abb0d067",
      "metadata": {
        "id": "abb0d067"
      },
      "outputs": [],
      "source": [
        "DATA_DIR = \"PubMed_20k_RCT_numbers_replaced_with_at_sign/\""
      ]
    },
    {
      "cell_type": "code",
      "execution_count": 12,
      "id": "e6069748",
      "metadata": {
        "id": "e6069748"
      },
      "outputs": [],
      "source": [
        "def get_file(filenames):\n",
        "    \"\"\"\n",
        "    This function is used to return all the text contain in the file as a list \n",
        "    \n",
        "    filenames : name of the file to read\n",
        "    \n",
        "    returns a list of text as a string\n",
        "    \"\"\"\n",
        "    with open(DATA_DIR+filenames, 'r') as f:\n",
        "        return f.readlines()\n"
      ]
    },
    {
      "cell_type": "code",
      "execution_count": 13,
      "id": "4f1be262",
      "metadata": {
        "id": "4f1be262"
      },
      "outputs": [],
      "source": [
        "def preprocess_the_data(filenames):\n",
        "    \"\"\"\n",
        "    This function helps the text file to be stored in a specific order like\n",
        "    [{\n",
        "        'target': target,\n",
        "        'text' : text,\n",
        "        'line_number': line_number,\n",
        "        'total_line': total_line\n",
        "    }]\n",
        "    \n",
        "    and store all the above dictory in a list\n",
        "    \"\"\"\n",
        "    \n",
        "    get_lines = get_file(filenames)\n",
        "    \n",
        "    abstract_sample = []\n",
        "    abstract_line = \"\"\n",
        "    \n",
        "    for line in get_lines:\n",
        "        if line.startswith(\"###\"):\n",
        "            abstract_line = \"\"\n",
        "            \n",
        "            \n",
        "        elif line.isspace():\n",
        "            \n",
        "            abstract_line_split = abstract_line.splitlines()\n",
        "        \n",
        "            for line_number, line_d in enumerate(abstract_line_split):\n",
        "                line_data = {}\n",
        "                abstract_text_target_split = line_d.split('\\t')\n",
        "                line_data[\"target\"] = abstract_text_target_split[0]\n",
        "                line_data[\"text\"] = abstract_text_target_split[1].lower()\n",
        "                line_data[\"line_number\"] = line_number\n",
        "                line_data[\"total_line\"] = len(abstract_line_split)-1\n",
        "                \n",
        "                abstract_sample.append(line_data)\n",
        "            \n",
        "        \n",
        "        else:\n",
        "            abstract_line += line\n",
        "            \n",
        "    return abstract_sample"
      ]
    },
    {
      "cell_type": "code",
      "execution_count": 14,
      "id": "9ec3c2d1",
      "metadata": {
        "colab": {
          "base_uri": "https://localhost:8080/"
        },
        "id": "9ec3c2d1",
        "outputId": "a70cb899-ab75-472c-ff13-e4733e27bf70"
      },
      "outputs": [
        {
          "output_type": "execute_result",
          "data": {
            "text/plain": [
              "[{'target': 'OBJECTIVE',\n",
              "  'text': 'to investigate the efficacy of @ weeks of daily low-dose oral prednisolone in improving pain , mobility , and systemic low-grade inflammation in the short term and whether the effect would be sustained at @ weeks in older adults with moderate to severe knee osteoarthritis ( oa ) .',\n",
              "  'line_number': 0,\n",
              "  'total_line': 11},\n",
              " {'target': 'METHODS',\n",
              "  'text': 'a total of @ patients with primary knee oa were randomized @:@ ; @ received @ mg/day of prednisolone and @ received placebo for @ weeks .',\n",
              "  'line_number': 1,\n",
              "  'total_line': 11},\n",
              " {'target': 'METHODS',\n",
              "  'text': 'outcome measures included pain reduction and improvement in function scores and systemic inflammation markers .',\n",
              "  'line_number': 2,\n",
              "  'total_line': 11},\n",
              " {'target': 'METHODS',\n",
              "  'text': 'pain was assessed using the visual analog pain scale ( @-@ mm ) .',\n",
              "  'line_number': 3,\n",
              "  'total_line': 11},\n",
              " {'target': 'METHODS',\n",
              "  'text': 'secondary outcome measures included the western ontario and mcmaster universities osteoarthritis index scores , patient global assessment ( pga ) of the severity of knee oa , and @-min walk distance ( @mwd ) .',\n",
              "  'line_number': 4,\n",
              "  'total_line': 11},\n",
              " {'target': 'METHODS',\n",
              "  'text': 'serum levels of interleukin @ ( il-@ ) , il-@ , tumor necrosis factor ( tnf ) - , and high-sensitivity c-reactive protein ( hscrp ) were measured .',\n",
              "  'line_number': 5,\n",
              "  'total_line': 11},\n",
              " {'target': 'RESULTS',\n",
              "  'text': 'there was a clinically relevant reduction in the intervention group compared to the placebo group for knee pain , physical function , pga , and @mwd at @ weeks .',\n",
              "  'line_number': 6,\n",
              "  'total_line': 11},\n",
              " {'target': 'RESULTS',\n",
              "  'text': 'the mean difference between treatment arms ( @ % ci ) was @ ( @-@ @ ) , p < @ ; @ ( @-@ @ ) , p < @ ; @ ( @-@ @ ) , p < @ ; and @ ( @-@ @ ) , p < @ , respectively .',\n",
              "  'line_number': 7,\n",
              "  'total_line': 11},\n",
              " {'target': 'RESULTS',\n",
              "  'text': 'further , there was a clinically relevant reduction in the serum levels of il-@ , il-@ , tnf - , and hscrp at @ weeks in the intervention group when compared to the placebo group .',\n",
              "  'line_number': 8,\n",
              "  'total_line': 11},\n",
              " {'target': 'RESULTS',\n",
              "  'text': 'these differences remained significant at @ weeks .',\n",
              "  'line_number': 9,\n",
              "  'total_line': 11}]"
            ]
          },
          "metadata": {},
          "execution_count": 14
        }
      ],
      "source": [
        "train_data = preprocess_the_data(\"train.txt\")\n",
        "val_data = preprocess_the_data(\"dev.txt\")\n",
        "test_data = preprocess_the_data(\"test.txt\")\n",
        "train_data[:10]"
      ]
    },
    {
      "cell_type": "code",
      "execution_count": 15,
      "id": "338ea7f5",
      "metadata": {
        "colab": {
          "base_uri": "https://localhost:8080/",
          "height": 206
        },
        "id": "338ea7f5",
        "outputId": "46ad5039-740e-44cd-9b56-72228c1aadbb"
      },
      "outputs": [
        {
          "output_type": "execute_result",
          "data": {
            "text/plain": [
              "      target                                               text  line_number  \\\n",
              "0  OBJECTIVE  to investigate the efficacy of @ weeks of dail...            0   \n",
              "1    METHODS  a total of @ patients with primary knee oa wer...            1   \n",
              "2    METHODS  outcome measures included pain reduction and i...            2   \n",
              "3    METHODS  pain was assessed using the visual analog pain...            3   \n",
              "4    METHODS  secondary outcome measures included the wester...            4   \n",
              "\n",
              "   total_line  \n",
              "0          11  \n",
              "1          11  \n",
              "2          11  \n",
              "3          11  \n",
              "4          11  "
            ],
            "text/html": [
              "\n",
              "  <div id=\"df-1fa61ae8-ba62-490c-872f-ec62a2c38e49\">\n",
              "    <div class=\"colab-df-container\">\n",
              "      <div>\n",
              "<style scoped>\n",
              "    .dataframe tbody tr th:only-of-type {\n",
              "        vertical-align: middle;\n",
              "    }\n",
              "\n",
              "    .dataframe tbody tr th {\n",
              "        vertical-align: top;\n",
              "    }\n",
              "\n",
              "    .dataframe thead th {\n",
              "        text-align: right;\n",
              "    }\n",
              "</style>\n",
              "<table border=\"1\" class=\"dataframe\">\n",
              "  <thead>\n",
              "    <tr style=\"text-align: right;\">\n",
              "      <th></th>\n",
              "      <th>target</th>\n",
              "      <th>text</th>\n",
              "      <th>line_number</th>\n",
              "      <th>total_line</th>\n",
              "    </tr>\n",
              "  </thead>\n",
              "  <tbody>\n",
              "    <tr>\n",
              "      <th>0</th>\n",
              "      <td>OBJECTIVE</td>\n",
              "      <td>to investigate the efficacy of @ weeks of dail...</td>\n",
              "      <td>0</td>\n",
              "      <td>11</td>\n",
              "    </tr>\n",
              "    <tr>\n",
              "      <th>1</th>\n",
              "      <td>METHODS</td>\n",
              "      <td>a total of @ patients with primary knee oa wer...</td>\n",
              "      <td>1</td>\n",
              "      <td>11</td>\n",
              "    </tr>\n",
              "    <tr>\n",
              "      <th>2</th>\n",
              "      <td>METHODS</td>\n",
              "      <td>outcome measures included pain reduction and i...</td>\n",
              "      <td>2</td>\n",
              "      <td>11</td>\n",
              "    </tr>\n",
              "    <tr>\n",
              "      <th>3</th>\n",
              "      <td>METHODS</td>\n",
              "      <td>pain was assessed using the visual analog pain...</td>\n",
              "      <td>3</td>\n",
              "      <td>11</td>\n",
              "    </tr>\n",
              "    <tr>\n",
              "      <th>4</th>\n",
              "      <td>METHODS</td>\n",
              "      <td>secondary outcome measures included the wester...</td>\n",
              "      <td>4</td>\n",
              "      <td>11</td>\n",
              "    </tr>\n",
              "  </tbody>\n",
              "</table>\n",
              "</div>\n",
              "      <button class=\"colab-df-convert\" onclick=\"convertToInteractive('df-1fa61ae8-ba62-490c-872f-ec62a2c38e49')\"\n",
              "              title=\"Convert this dataframe to an interactive table.\"\n",
              "              style=\"display:none;\">\n",
              "        \n",
              "  <svg xmlns=\"http://www.w3.org/2000/svg\" height=\"24px\"viewBox=\"0 0 24 24\"\n",
              "       width=\"24px\">\n",
              "    <path d=\"M0 0h24v24H0V0z\" fill=\"none\"/>\n",
              "    <path d=\"M18.56 5.44l.94 2.06.94-2.06 2.06-.94-2.06-.94-.94-2.06-.94 2.06-2.06.94zm-11 1L8.5 8.5l.94-2.06 2.06-.94-2.06-.94L8.5 2.5l-.94 2.06-2.06.94zm10 10l.94 2.06.94-2.06 2.06-.94-2.06-.94-.94-2.06-.94 2.06-2.06.94z\"/><path d=\"M17.41 7.96l-1.37-1.37c-.4-.4-.92-.59-1.43-.59-.52 0-1.04.2-1.43.59L10.3 9.45l-7.72 7.72c-.78.78-.78 2.05 0 2.83L4 21.41c.39.39.9.59 1.41.59.51 0 1.02-.2 1.41-.59l7.78-7.78 2.81-2.81c.8-.78.8-2.07 0-2.86zM5.41 20L4 18.59l7.72-7.72 1.47 1.35L5.41 20z\"/>\n",
              "  </svg>\n",
              "      </button>\n",
              "      \n",
              "  <style>\n",
              "    .colab-df-container {\n",
              "      display:flex;\n",
              "      flex-wrap:wrap;\n",
              "      gap: 12px;\n",
              "    }\n",
              "\n",
              "    .colab-df-convert {\n",
              "      background-color: #E8F0FE;\n",
              "      border: none;\n",
              "      border-radius: 50%;\n",
              "      cursor: pointer;\n",
              "      display: none;\n",
              "      fill: #1967D2;\n",
              "      height: 32px;\n",
              "      padding: 0 0 0 0;\n",
              "      width: 32px;\n",
              "    }\n",
              "\n",
              "    .colab-df-convert:hover {\n",
              "      background-color: #E2EBFA;\n",
              "      box-shadow: 0px 1px 2px rgba(60, 64, 67, 0.3), 0px 1px 3px 1px rgba(60, 64, 67, 0.15);\n",
              "      fill: #174EA6;\n",
              "    }\n",
              "\n",
              "    [theme=dark] .colab-df-convert {\n",
              "      background-color: #3B4455;\n",
              "      fill: #D2E3FC;\n",
              "    }\n",
              "\n",
              "    [theme=dark] .colab-df-convert:hover {\n",
              "      background-color: #434B5C;\n",
              "      box-shadow: 0px 1px 3px 1px rgba(0, 0, 0, 0.15);\n",
              "      filter: drop-shadow(0px 1px 2px rgba(0, 0, 0, 0.3));\n",
              "      fill: #FFFFFF;\n",
              "    }\n",
              "  </style>\n",
              "\n",
              "      <script>\n",
              "        const buttonEl =\n",
              "          document.querySelector('#df-1fa61ae8-ba62-490c-872f-ec62a2c38e49 button.colab-df-convert');\n",
              "        buttonEl.style.display =\n",
              "          google.colab.kernel.accessAllowed ? 'block' : 'none';\n",
              "\n",
              "        async function convertToInteractive(key) {\n",
              "          const element = document.querySelector('#df-1fa61ae8-ba62-490c-872f-ec62a2c38e49');\n",
              "          const dataTable =\n",
              "            await google.colab.kernel.invokeFunction('convertToInteractive',\n",
              "                                                     [key], {});\n",
              "          if (!dataTable) return;\n",
              "\n",
              "          const docLinkHtml = 'Like what you see? Visit the ' +\n",
              "            '<a target=\"_blank\" href=https://colab.research.google.com/notebooks/data_table.ipynb>data table notebook</a>'\n",
              "            + ' to learn more about interactive tables.';\n",
              "          element.innerHTML = '';\n",
              "          dataTable['output_type'] = 'display_data';\n",
              "          await google.colab.output.renderOutput(dataTable, element);\n",
              "          const docLink = document.createElement('div');\n",
              "          docLink.innerHTML = docLinkHtml;\n",
              "          element.appendChild(docLink);\n",
              "        }\n",
              "      </script>\n",
              "    </div>\n",
              "  </div>\n",
              "  "
            ]
          },
          "metadata": {},
          "execution_count": 15
        }
      ],
      "source": [
        "import pandas as pd\n",
        "\n",
        "train_df = pd.DataFrame(train_data)\n",
        "val_df = pd.DataFrame(val_data)\n",
        "test_df = pd.DataFrame(test_data)\n",
        "\n",
        "train_df.head()"
      ]
    },
    {
      "cell_type": "code",
      "execution_count": 16,
      "id": "4e6a1de4",
      "metadata": {
        "colab": {
          "base_uri": "https://localhost:8080/"
        },
        "id": "4e6a1de4",
        "outputId": "add6d1ad-492b-4d69-b2d6-7a53de409042"
      },
      "outputs": [
        {
          "output_type": "execute_result",
          "data": {
            "text/plain": [
              "METHODS        59353\n",
              "RESULTS        57953\n",
              "CONCLUSIONS    27168\n",
              "BACKGROUND     21727\n",
              "OBJECTIVE      13839\n",
              "Name: target, dtype: int64"
            ]
          },
          "metadata": {},
          "execution_count": 16
        }
      ],
      "source": [
        "train_df.target.value_counts()"
      ]
    },
    {
      "cell_type": "code",
      "execution_count": 17,
      "id": "716f2625",
      "metadata": {
        "colab": {
          "base_uri": "https://localhost:8080/"
        },
        "id": "716f2625",
        "outputId": "05c86d71-765e-4c53-8ffd-8d20d924e4da"
      },
      "outputs": [
        {
          "output_type": "execute_result",
          "data": {
            "text/plain": [
              "0    to investigate the efficacy of @ weeks of dail...\n",
              "1    a total of @ patients with primary knee oa wer...\n",
              "2    outcome measures included pain reduction and i...\n",
              "3    pain was assessed using the visual analog pain...\n",
              "4    secondary outcome measures included the wester...\n",
              "5    serum levels of interleukin @ ( il-@ ) , il-@ ...\n",
              "6    there was a clinically relevant reduction in t...\n",
              "7    the mean difference between treatment arms ( @...\n",
              "8    further , there was a clinically relevant redu...\n",
              "9    these differences remained significant at @ we...\n",
              "Name: text, dtype: object"
            ]
          },
          "metadata": {},
          "execution_count": 17
        }
      ],
      "source": [
        "train_sentences = train_df[\"text\"]\n",
        "val_sentences = val_df[\"text\"]\n",
        "test_sentences = test_df[\"text\"]\n",
        "\n",
        "train_sentences[:10]"
      ]
    },
    {
      "cell_type": "code",
      "execution_count": 18,
      "id": "5cadfd8c",
      "metadata": {
        "colab": {
          "base_uri": "https://localhost:8080/"
        },
        "id": "5cadfd8c",
        "outputId": "d9c59d88-1522-4b1d-c45f-8a61aeb660d1"
      },
      "outputs": [
        {
          "output_type": "execute_result",
          "data": {
            "text/plain": [
              "(array([3, 2, 2, ..., 4, 1, 1]),\n",
              " 5,\n",
              " array(['BACKGROUND', 'CONCLUSIONS', 'METHODS', 'OBJECTIVE', 'RESULTS'],\n",
              "       dtype=object))"
            ]
          },
          "metadata": {},
          "execution_count": 18
        }
      ],
      "source": [
        "from sklearn.preprocessing import LabelEncoder\n",
        "\n",
        "label_encoder = LabelEncoder()\n",
        "\n",
        "train_label_encoded = label_encoder.fit_transform(train_df[\"target\"])\n",
        "val_label_encoded = label_encoder.transform(val_df[\"target\"])\n",
        "test_label_encoded = label_encoder.transform(test_df[\"target\"])\n",
        "\n",
        "label_length = len(label_encoder.classes_)\n",
        "label_class = label_encoder.classes_\n",
        "\n",
        "train_label_encoded, label_length, label_class"
      ]
    },
    {
      "cell_type": "code",
      "execution_count": 19,
      "id": "3754501a",
      "metadata": {
        "id": "3754501a"
      },
      "outputs": [],
      "source": [
        "import tensorflow as tf\n",
        "from tensorflow.keras import layers\n",
        "\n",
        "max_vocab = 68000\n",
        "text_vector = layers.TextVectorization(max_tokens = max_vocab,\n",
        "                                      output_sequence_length = 55)\n",
        "embedding = layers.Embedding(max_vocab, \n",
        "                            128,\n",
        "                            mask_zero = True)\n",
        "\n",
        "text_vector.adapt(train_sentences)"
      ]
    },
    {
      "cell_type": "markdown",
      "id": "12aa6b64",
      "metadata": {
        "id": "12aa6b64"
      },
      "source": [
        "# Creating a baseline model using Naive Bayes\n",
        "\n",
        " Here we are using a model of sciket learn called Naive Bayes to create a baseline model for us\n",
        " "
      ]
    },
    {
      "cell_type": "code",
      "execution_count": 20,
      "id": "944add15",
      "metadata": {
        "colab": {
          "base_uri": "https://localhost:8080/"
        },
        "id": "944add15",
        "outputId": "cb1296fe-ff39-4c71-e750-997add3a7258"
      },
      "outputs": [
        {
          "output_type": "execute_result",
          "data": {
            "text/plain": [
              "Pipeline(steps=[('tfidf', TfidfVectorizer()), ('clf', MultinomialNB())])"
            ]
          },
          "metadata": {},
          "execution_count": 20
        }
      ],
      "source": [
        "from sklearn.naive_bayes import MultinomialNB\n",
        "from sklearn.feature_extraction.text import TfidfVectorizer\n",
        "from sklearn.pipeline import Pipeline\n",
        "\n",
        "model_0 = Pipeline([\n",
        "    (\"tfidf\", TfidfVectorizer()),\n",
        "    (\"clf\", MultinomialNB())\n",
        "])\n",
        "\n",
        "\n",
        "model_0.fit(train_sentences, train_label_encoded)"
      ]
    },
    {
      "cell_type": "code",
      "execution_count": 21,
      "id": "90936a80",
      "metadata": {
        "colab": {
          "base_uri": "https://localhost:8080/"
        },
        "id": "90936a80",
        "outputId": "a44ec283-d363-4ca1-ca27-5746d0862685"
      },
      "outputs": [
        {
          "output_type": "execute_result",
          "data": {
            "text/plain": [
              "0.7218323844829869"
            ]
          },
          "metadata": {},
          "execution_count": 21
        }
      ],
      "source": [
        "model_0.score(val_sentences, val_label_encoded)"
      ]
    },
    {
      "cell_type": "code",
      "source": [
        "from helperfunc import calculate_results\n"
      ],
      "metadata": {
        "id": "bTgiIY7KJxpD"
      },
      "id": "bTgiIY7KJxpD",
      "execution_count": 22,
      "outputs": []
    },
    {
      "cell_type": "code",
      "execution_count": 23,
      "id": "bc8e7f80",
      "metadata": {
        "id": "bc8e7f80"
      },
      "outputs": [],
      "source": [
        "\n",
        "baseline_preds = model_0.predict(val_sentences)"
      ]
    },
    {
      "cell_type": "code",
      "execution_count": 24,
      "id": "42253545",
      "metadata": {
        "id": "42253545"
      },
      "outputs": [],
      "source": [
        "baseline_results =calculate_results(val_label_encoded, baseline_preds)"
      ]
    },
    {
      "cell_type": "code",
      "execution_count": 25,
      "id": "c04226b0",
      "metadata": {
        "colab": {
          "base_uri": "https://localhost:8080/"
        },
        "id": "c04226b0",
        "outputId": "4a12a7c4-ed00-469e-e44f-98d9f8880842"
      },
      "outputs": [
        {
          "output_type": "execute_result",
          "data": {
            "text/plain": [
              "{'accuracy': 72.1832384482987,\n",
              " 'precision': 0.7186466952323352,\n",
              " 'recall': 0.7218323844829869,\n",
              " 'f1': 0.6989250353450294}"
            ]
          },
          "metadata": {},
          "execution_count": 25
        }
      ],
      "source": [
        "baseline_results"
      ]
    },
    {
      "cell_type": "code",
      "execution_count": 26,
      "id": "1fb3287e",
      "metadata": {
        "colab": {
          "base_uri": "https://localhost:8080/"
        },
        "id": "1fb3287e",
        "outputId": "ddb7dfa5-be67-45e2-c1b7-5bc461c4264c"
      },
      "outputs": [
        {
          "output_type": "execute_result",
          "data": {
            "text/plain": [
              "array([[0., 0., 0., 1., 0.],\n",
              "       [0., 0., 1., 0., 0.],\n",
              "       [0., 0., 1., 0., 0.],\n",
              "       [0., 0., 1., 0., 0.],\n",
              "       [0., 0., 1., 0., 0.],\n",
              "       [0., 0., 1., 0., 0.],\n",
              "       [0., 0., 0., 0., 1.],\n",
              "       [0., 0., 0., 0., 1.],\n",
              "       [0., 0., 0., 0., 1.],\n",
              "       [0., 0., 0., 0., 1.]])"
            ]
          },
          "metadata": {},
          "execution_count": 26
        }
      ],
      "source": [
        "from sklearn.preprocessing import OneHotEncoder\n",
        "\n",
        "ohe = OneHotEncoder(sparse=False)\n",
        "\n",
        "train_one_hot = ohe.fit_transform(train_df[\"target\"].to_numpy().reshape(-1,1))\n",
        "val_one_hot = ohe.transform(val_df[\"target\"].to_numpy().reshape(-1,1))\n",
        "test_one_hot = ohe.transform(test_df[\"target\"].to_numpy().reshape(-1,1))\n",
        "\n",
        "train_one_hot[:10]"
      ]
    },
    {
      "cell_type": "code",
      "execution_count": 27,
      "id": "6fe966fd",
      "metadata": {
        "colab": {
          "base_uri": "https://localhost:8080/"
        },
        "id": "6fe966fd",
        "outputId": "1df75299-c295-4734-b84c-ed3e8950a9c0"
      },
      "outputs": [
        {
          "output_type": "execute_result",
          "data": {
            "text/plain": [
              "<TensorSliceDataset element_spec=(TensorSpec(shape=(), dtype=tf.string, name=None), TensorSpec(shape=(5,), dtype=tf.float64, name=None))>"
            ]
          },
          "metadata": {},
          "execution_count": 27
        }
      ],
      "source": [
        "train_datasets = tf.data.Dataset.from_tensor_slices((train_sentences, train_one_hot))\n",
        "val_datasets = tf.data.Dataset.from_tensor_slices((val_sentences, val_one_hot))\n",
        "test_datasets = tf.data.Dataset.from_tensor_slices((test_sentences, test_one_hot))\n",
        "\n",
        "train_datasets"
      ]
    },
    {
      "cell_type": "code",
      "execution_count": 28,
      "id": "24c2934c",
      "metadata": {
        "id": "24c2934c"
      },
      "outputs": [],
      "source": [
        "train_datasets = train_datasets.batch(32).prefetch(tf.data.AUTOTUNE)\n",
        "val_datasets = val_datasets.batch(32).prefetch(tf.data.AUTOTUNE)\n",
        "test_datasets = test_datasets.batch(32).prefetch(tf.data.AUTOTUNE)\n",
        "\n"
      ]
    },
    {
      "cell_type": "code",
      "execution_count": 29,
      "id": "d85c5e70",
      "metadata": {
        "colab": {
          "base_uri": "https://localhost:8080/"
        },
        "id": "d85c5e70",
        "outputId": "021be907-632c-43c6-a950-765afe46346b"
      },
      "outputs": [
        {
          "output_type": "execute_result",
          "data": {
            "text/plain": [
              "<PrefetchDataset element_spec=(TensorSpec(shape=(None,), dtype=tf.string, name=None), TensorSpec(shape=(None, 5), dtype=tf.float64, name=None))>"
            ]
          },
          "metadata": {},
          "execution_count": 29
        }
      ],
      "source": [
        "train_datasets"
      ]
    },
    {
      "cell_type": "markdown",
      "id": "3b5fb0b1",
      "metadata": {
        "id": "3b5fb0b1"
      },
      "source": [
        "# Creating our first deep learning model  "
      ]
    },
    {
      "cell_type": "markdown",
      "id": "d4864deb",
      "metadata": {
        "id": "d4864deb"
      },
      "source": [
        "## Using Convulation method(CNN)"
      ]
    },
    {
      "cell_type": "code",
      "execution_count": 30,
      "id": "1b994d2a",
      "metadata": {
        "id": "1b994d2a"
      },
      "outputs": [],
      "source": [
        "inputs = layers.Input(shape = (1,), dtype = \"string\")\n",
        "x = text_vector(inputs)\n",
        "x = embedding(x)\n",
        "x = layers.Conv1D(64,2, activation =\"tanh\")(x)\n",
        "x = layers.GlobalAveragePooling1D()(x)\n",
        "x = layers.Dense(64, activation = \"tanh\")(x)\n",
        "outputs = layers.Dense(label_length, activation = \"softmax\")(x)\n",
        "\n",
        "model_1 = tf.keras.Model(inputs, outputs)\n"
      ]
    },
    {
      "cell_type": "code",
      "execution_count": 31,
      "id": "568d42b1",
      "metadata": {
        "colab": {
          "base_uri": "https://localhost:8080/"
        },
        "id": "568d42b1",
        "outputId": "acd4c32c-b886-40b6-fde5-cd2b636b6f2a"
      },
      "outputs": [
        {
          "output_type": "stream",
          "name": "stdout",
          "text": [
            "Model: \"model\"\n",
            "_________________________________________________________________\n",
            " Layer (type)                Output Shape              Param #   \n",
            "=================================================================\n",
            " input_1 (InputLayer)        [(None, 1)]               0         \n",
            "                                                                 \n",
            " text_vectorization (TextVec  (None, 55)               0         \n",
            " torization)                                                     \n",
            "                                                                 \n",
            " embedding (Embedding)       (None, 55, 128)           8704000   \n",
            "                                                                 \n",
            " conv1d (Conv1D)             (None, 54, 64)            16448     \n",
            "                                                                 \n",
            " global_average_pooling1d (G  (None, 64)               0         \n",
            " lobalAveragePooling1D)                                          \n",
            "                                                                 \n",
            " dense (Dense)               (None, 64)                4160      \n",
            "                                                                 \n",
            " dense_1 (Dense)             (None, 5)                 325       \n",
            "                                                                 \n",
            "=================================================================\n",
            "Total params: 8,724,933\n",
            "Trainable params: 8,724,933\n",
            "Non-trainable params: 0\n",
            "_________________________________________________________________\n"
          ]
        }
      ],
      "source": [
        "model_1.summary()"
      ]
    },
    {
      "cell_type": "code",
      "execution_count": 32,
      "id": "ef36b6ca",
      "metadata": {
        "colab": {
          "base_uri": "https://localhost:8080/"
        },
        "id": "ef36b6ca",
        "outputId": "a8c36642-2d9e-4190-9e4d-238bcfcfbcf6"
      },
      "outputs": [
        {
          "output_type": "stream",
          "name": "stdout",
          "text": [
            "Epoch 1/5\n",
            "562/562 [==============================] - 14s 9ms/step - loss: 0.9082 - accuracy: 0.6273 - val_loss: 0.6938 - val_accuracy: 0.7164\n",
            "Epoch 2/5\n",
            "562/562 [==============================] - 5s 9ms/step - loss: 0.6784 - accuracy: 0.7393 - val_loss: 0.6455 - val_accuracy: 0.7599\n",
            "Epoch 3/5\n",
            "562/562 [==============================] - 5s 9ms/step - loss: 0.6471 - accuracy: 0.7561 - val_loss: 0.6181 - val_accuracy: 0.7599\n",
            "Epoch 4/5\n",
            "562/562 [==============================] - 5s 9ms/step - loss: 0.6144 - accuracy: 0.7745 - val_loss: 0.6060 - val_accuracy: 0.7691\n",
            "Epoch 5/5\n",
            "562/562 [==============================] - 5s 9ms/step - loss: 0.6172 - accuracy: 0.7768 - val_loss: 0.5869 - val_accuracy: 0.7878\n"
          ]
        }
      ],
      "source": [
        "model_1.compile(loss = \"categorical_crossentropy\",\n",
        "               optimizer = \"adam\",\n",
        "               metrics =[\"accuracy\"])\n",
        "\n",
        "model_1_history = model_1.fit(train_datasets,\n",
        "                              epochs = 5, \n",
        "                             steps_per_epoch=0.1*len(train_datasets),\n",
        "                             validation_data = val_datasets,\n",
        "                             validation_steps=0.1*len(val_datasets))"
      ]
    },
    {
      "cell_type": "code",
      "execution_count": 33,
      "id": "c8d61235",
      "metadata": {
        "colab": {
          "base_uri": "https://localhost:8080/"
        },
        "id": "c8d61235",
        "outputId": "50e14b58-19ed-4957-a2b8-60c010487b29"
      },
      "outputs": [
        {
          "output_type": "stream",
          "name": "stdout",
          "text": [
            "945/945 [==============================] - 3s 3ms/step - loss: 0.5942 - accuracy: 0.7867\n"
          ]
        },
        {
          "output_type": "execute_result",
          "data": {
            "text/plain": [
              "[0.5941609740257263, 0.7867403626441956]"
            ]
          },
          "metadata": {},
          "execution_count": 33
        }
      ],
      "source": [
        "model_1.evaluate(val_datasets)"
      ]
    },
    {
      "cell_type": "code",
      "execution_count": 34,
      "id": "05a70594",
      "metadata": {
        "colab": {
          "base_uri": "https://localhost:8080/"
        },
        "id": "05a70594",
        "outputId": "c5396fd3-cf77-4ea7-c328-9c084e03ec17"
      },
      "outputs": [
        {
          "output_type": "stream",
          "name": "stdout",
          "text": [
            "945/945 [==============================] - 2s 2ms/step\n"
          ]
        }
      ],
      "source": [
        "model_1_preds = model_1.predict(val_datasets)"
      ]
    },
    {
      "cell_type": "code",
      "execution_count": 35,
      "id": "97faed50",
      "metadata": {
        "colab": {
          "base_uri": "https://localhost:8080/"
        },
        "id": "97faed50",
        "outputId": "b4297bbb-75cb-4914-bb88-60bf8449be23"
      },
      "outputs": [
        {
          "output_type": "execute_result",
          "data": {
            "text/plain": [
              "(array([[5.7014620e-01, 1.9554156e-01, 3.8818233e-02, 1.6205838e-01,\n",
              "         3.3435624e-02],\n",
              "        [5.0497383e-01, 2.7526551e-01, 6.3875904e-03, 2.0028375e-01,\n",
              "         1.3089296e-02],\n",
              "        [2.0877802e-01, 1.6096620e-02, 2.0573051e-03, 7.7301949e-01,\n",
              "         4.8624821e-05],\n",
              "        ...,\n",
              "        [5.3319152e-05, 1.6090714e-03, 5.4657995e-03, 6.2828192e-05,\n",
              "         9.9280894e-01],\n",
              "        [1.9766615e-01, 2.8092429e-01, 9.9583291e-02, 9.0974033e-02,\n",
              "         3.3085221e-01],\n",
              "        [3.0058706e-01, 6.1718613e-01, 3.6721032e-02, 2.8198173e-02,\n",
              "         1.7307634e-02]], dtype=float32), (30212, 5))"
            ]
          },
          "metadata": {},
          "execution_count": 35
        }
      ],
      "source": [
        "model_1_preds, model_1_preds.shape"
      ]
    },
    {
      "cell_type": "code",
      "execution_count": 36,
      "id": "1ed9add3",
      "metadata": {
        "id": "1ed9add3"
      },
      "outputs": [],
      "source": [
        "model_1_preds = tf.argmax(model_1_preds, 1)"
      ]
    },
    {
      "cell_type": "code",
      "execution_count": 37,
      "id": "0cd06eeb",
      "metadata": {
        "colab": {
          "base_uri": "https://localhost:8080/"
        },
        "id": "0cd06eeb",
        "outputId": "5923eab2-03c6-429d-af43-d73d7cec03df"
      },
      "outputs": [
        {
          "output_type": "execute_result",
          "data": {
            "text/plain": [
              "<tf.Tensor: shape=(30212,), dtype=int64, numpy=array([0, 0, 3, ..., 4, 4, 1])>"
            ]
          },
          "metadata": {},
          "execution_count": 37
        }
      ],
      "source": [
        "model_1_preds"
      ]
    },
    {
      "cell_type": "code",
      "execution_count": 38,
      "id": "cbd68d04",
      "metadata": {
        "colab": {
          "base_uri": "https://localhost:8080/"
        },
        "id": "cbd68d04",
        "outputId": "6b21beb5-1740-4ea2-b3ca-501f7ca78be2"
      },
      "outputs": [
        {
          "output_type": "execute_result",
          "data": {
            "text/plain": [
              "{'accuracy': 78.67403680656693,\n",
              " 'precision': 0.7942271417716452,\n",
              " 'recall': 0.7867403680656693,\n",
              " 'f1': 0.7878080679181818}"
            ]
          },
          "metadata": {},
          "execution_count": 38
        }
      ],
      "source": [
        "model_1_results = calculate_results(val_label_encoded, model_1_preds)\n",
        "model_1_results"
      ]
    },
    {
      "cell_type": "code",
      "execution_count": 39,
      "id": "e11a8f76",
      "metadata": {
        "colab": {
          "base_uri": "https://localhost:8080/"
        },
        "id": "e11a8f76",
        "outputId": "5abc6ae0-f91d-4aa1-b0df-d6672b8a7abe"
      },
      "outputs": [
        {
          "output_type": "execute_result",
          "data": {
            "text/plain": [
              "{'accuracy': 72.1832384482987,\n",
              " 'precision': 0.7186466952323352,\n",
              " 'recall': 0.7218323844829869,\n",
              " 'f1': 0.6989250353450294}"
            ]
          },
          "metadata": {},
          "execution_count": 39
        }
      ],
      "source": [
        "baseline_results"
      ]
    },
    {
      "cell_type": "markdown",
      "id": "9adfbb6b",
      "metadata": {
        "id": "9adfbb6b"
      },
      "source": [
        "## Using tensorflow hub(pretrained embedding layers)"
      ]
    },
    {
      "cell_type": "code",
      "execution_count": 40,
      "id": "942b1dbd",
      "metadata": {
        "id": "942b1dbd"
      },
      "outputs": [],
      "source": [
        "import tensorflow_hub as hub\n",
        "\n",
        "tf_hub_embedding_layers = hub.KerasLayer(\"https://tfhub.dev/google/universal-sentence-encoder/4\",\n",
        "                                        trainable= False,\n",
        "                                        name=\"unversal_sentence_encoder\")\n",
        "\n"
      ]
    },
    {
      "cell_type": "code",
      "execution_count": 41,
      "id": "63717191",
      "metadata": {
        "colab": {
          "base_uri": "https://localhost:8080/"
        },
        "id": "63717191",
        "outputId": "c8c7e7eb-522e-400d-f8ea-86cdb8b161db"
      },
      "outputs": [
        {
          "output_type": "stream",
          "name": "stdout",
          "text": [
            "Model: \"model_1\"\n",
            "_________________________________________________________________\n",
            " Layer (type)                Output Shape              Param #   \n",
            "=================================================================\n",
            " input_2 (InputLayer)        [(None,)]                 0         \n",
            "                                                                 \n",
            " unversal_sentence_encoder (  (None, 512)              256797824 \n",
            " KerasLayer)                                                     \n",
            "                                                                 \n",
            " dense_2 (Dense)             (None, 128)               65664     \n",
            "                                                                 \n",
            " dense_3 (Dense)             (None, 5)                 645       \n",
            "                                                                 \n",
            "=================================================================\n",
            "Total params: 256,864,133\n",
            "Trainable params: 66,309\n",
            "Non-trainable params: 256,797,824\n",
            "_________________________________________________________________\n"
          ]
        }
      ],
      "source": [
        "inputs = layers.Input(shape = [] , dtype = \"string\")\n",
        "x = tf_hub_embedding_layers(inputs)\n",
        "x = layers.Dense(128, activation =\"tanh\")(x)\n",
        "outputs = layers.Dense(label_length, activation = \"softmax\")(x)\n",
        "\n",
        "model_2 = tf.keras.Model(inputs, outputs)\n",
        "\n",
        "model_2.compile(loss = \"categorical_crossentropy\",\n",
        "               optimizer = \"adam\",\n",
        "               metrics = [\"accuracy\"])\n",
        "\n",
        "model_2.summary()"
      ]
    },
    {
      "cell_type": "code",
      "execution_count": 42,
      "id": "7b30180f",
      "metadata": {
        "colab": {
          "base_uri": "https://localhost:8080/"
        },
        "id": "7b30180f",
        "outputId": "81820bf6-7939-4017-b14c-1776fd482f6d"
      },
      "outputs": [
        {
          "output_type": "stream",
          "name": "stdout",
          "text": [
            "Epoch 1/5\n",
            "562/562 [==============================] - 13s 15ms/step - loss: 0.9027 - accuracy: 0.6569 - val_loss: 0.8119 - val_accuracy: 0.6819\n",
            "Epoch 2/5\n",
            "562/562 [==============================] - 8s 14ms/step - loss: 0.7844 - accuracy: 0.6959 - val_loss: 0.7837 - val_accuracy: 0.6967\n",
            "Epoch 3/5\n",
            "562/562 [==============================] - 8s 14ms/step - loss: 0.7846 - accuracy: 0.7000 - val_loss: 0.7839 - val_accuracy: 0.6987\n",
            "Epoch 4/5\n",
            "562/562 [==============================] - 8s 14ms/step - loss: 0.7662 - accuracy: 0.7044 - val_loss: 0.7718 - val_accuracy: 0.7043\n",
            "Epoch 5/5\n",
            "562/562 [==============================] - 8s 14ms/step - loss: 0.7883 - accuracy: 0.6973 - val_loss: 0.7684 - val_accuracy: 0.7020\n"
          ]
        }
      ],
      "source": [
        "model_2_history = model_2.fit(train_datasets,\n",
        "                             steps_per_epoch=0.1*len(train_datasets),\n",
        "                             validation_data = val_datasets,\n",
        "                             validation_steps = 0.1*len(val_datasets),\n",
        "                             epochs = 5)"
      ]
    },
    {
      "cell_type": "code",
      "execution_count": 43,
      "id": "53db2c20",
      "metadata": {
        "colab": {
          "base_uri": "https://localhost:8080/"
        },
        "id": "53db2c20",
        "outputId": "f9eb24d3-6da3-49c9-bbd5-dadd19b2e5b8"
      },
      "outputs": [
        {
          "output_type": "stream",
          "name": "stdout",
          "text": [
            "945/945 [==============================] - 11s 12ms/step - loss: 0.7644 - accuracy: 0.7081\n"
          ]
        },
        {
          "output_type": "execute_result",
          "data": {
            "text/plain": [
              "[0.7644494771957397, 0.7080961465835571]"
            ]
          },
          "metadata": {},
          "execution_count": 43
        }
      ],
      "source": [
        "model_2.evaluate(val_datasets)"
      ]
    },
    {
      "cell_type": "code",
      "execution_count": 44,
      "id": "7e5d57b0",
      "metadata": {
        "colab": {
          "base_uri": "https://localhost:8080/"
        },
        "id": "7e5d57b0",
        "outputId": "1c04f65a-a3c2-43f9-d5ad-6fc4005d3ed1"
      },
      "outputs": [
        {
          "output_type": "stream",
          "name": "stdout",
          "text": [
            "945/945 [==============================] - 13s 13ms/step\n"
          ]
        }
      ],
      "source": [
        "model_2_preds = model_2.predict(val_datasets)\n",
        "\n",
        "model_2_preds = tf.argmax(model_2_preds, 1)\n",
        "\n",
        "model_2_results = calculate_results(val_label_encoded, model_2_preds)"
      ]
    },
    {
      "cell_type": "code",
      "execution_count": 45,
      "id": "94a82323",
      "metadata": {
        "colab": {
          "base_uri": "https://localhost:8080/"
        },
        "id": "94a82323",
        "outputId": "0da02b1f-ce33-4323-9cc6-90bc7fab1290"
      },
      "outputs": [
        {
          "output_type": "execute_result",
          "data": {
            "text/plain": [
              "{'accuracy': 70.80961207467232,\n",
              " 'precision': 0.7050697148153601,\n",
              " 'recall': 0.7080961207467231,\n",
              " 'f1': 0.7026110036554245}"
            ]
          },
          "metadata": {},
          "execution_count": 45
        }
      ],
      "source": [
        "model_2_results"
      ]
    },
    {
      "cell_type": "markdown",
      "id": "a8865a58",
      "metadata": {
        "id": "a8865a58"
      },
      "source": [
        "Till now we have created all the model using Token embedding but from now on we will use character level embedding to make new models"
      ]
    },
    {
      "cell_type": "markdown",
      "id": "782308e4",
      "metadata": {
        "id": "782308e4"
      },
      "source": [
        "## Creating character level datasets\n",
        "\n",
        "Now we will change our datasets to character level "
      ]
    },
    {
      "cell_type": "code",
      "execution_count": 46,
      "id": "07bf75a5",
      "metadata": {
        "id": "07bf75a5"
      },
      "outputs": [],
      "source": [
        "train_char = [\" \".join(list(sentence))  for sentence in train_sentences]\n",
        "val_char = [\" \".join(list(sentence)) for sentence in val_sentences]\n",
        "test_char = [\" \".join(list(sentence)) for sentence in test_sentences]"
      ]
    },
    {
      "cell_type": "code",
      "execution_count": 47,
      "id": "2dbede7e",
      "metadata": {
        "colab": {
          "base_uri": "https://localhost:8080/"
        },
        "id": "2dbede7e",
        "outputId": "2c1de147-ebd3-41db-d43d-ff7867f9b25e"
      },
      "outputs": [
        {
          "output_type": "execute_result",
          "data": {
            "text/plain": [
              "['t o   i n v e s t i g a t e   t h e   e f f i c a c y   o f   @   w e e k s   o f   d a i l y   l o w - d o s e   o r a l   p r e d n i s o l o n e   i n   i m p r o v i n g   p a i n   ,   m o b i l i t y   ,   a n d   s y s t e m i c   l o w - g r a d e   i n f l a m m a t i o n   i n   t h e   s h o r t   t e r m   a n d   w h e t h e r   t h e   e f f e c t   w o u l d   b e   s u s t a i n e d   a t   @   w e e k s   i n   o l d e r   a d u l t s   w i t h   m o d e r a t e   t o   s e v e r e   k n e e   o s t e o a r t h r i t i s   (   o a   )   .',\n",
              " 'a   t o t a l   o f   @   p a t i e n t s   w i t h   p r i m a r y   k n e e   o a   w e r e   r a n d o m i z e d   @ : @   ;   @   r e c e i v e d   @   m g / d a y   o f   p r e d n i s o l o n e   a n d   @   r e c e i v e d   p l a c e b o   f o r   @   w e e k s   .',\n",
              " 'o u t c o m e   m e a s u r e s   i n c l u d e d   p a i n   r e d u c t i o n   a n d   i m p r o v e m e n t   i n   f u n c t i o n   s c o r e s   a n d   s y s t e m i c   i n f l a m m a t i o n   m a r k e r s   .',\n",
              " 'p a i n   w a s   a s s e s s e d   u s i n g   t h e   v i s u a l   a n a l o g   p a i n   s c a l e   (   @ - @   m m   )   .',\n",
              " 's e c o n d a r y   o u t c o m e   m e a s u r e s   i n c l u d e d   t h e   w e s t e r n   o n t a r i o   a n d   m c m a s t e r   u n i v e r s i t i e s   o s t e o a r t h r i t i s   i n d e x   s c o r e s   ,   p a t i e n t   g l o b a l   a s s e s s m e n t   (   p g a   )   o f   t h e   s e v e r i t y   o f   k n e e   o a   ,   a n d   @ - m i n   w a l k   d i s t a n c e   (   @ m w d   )   .',\n",
              " 's e r u m   l e v e l s   o f   i n t e r l e u k i n   @   (   i l - @   )   ,   i l - @   ,   t u m o r   n e c r o s i s   f a c t o r   (   t n f   )   -   ,   a n d   h i g h - s e n s i t i v i t y   c - r e a c t i v e   p r o t e i n   (   h s c r p   )   w e r e   m e a s u r e d   .',\n",
              " 't h e r e   w a s   a   c l i n i c a l l y   r e l e v a n t   r e d u c t i o n   i n   t h e   i n t e r v e n t i o n   g r o u p   c o m p a r e d   t o   t h e   p l a c e b o   g r o u p   f o r   k n e e   p a i n   ,   p h y s i c a l   f u n c t i o n   ,   p g a   ,   a n d   @ m w d   a t   @   w e e k s   .',\n",
              " 't h e   m e a n   d i f f e r e n c e   b e t w e e n   t r e a t m e n t   a r m s   (   @   %   c i   )   w a s   @   (   @ - @   @   )   ,   p   <   @   ;   @   (   @ - @   @   )   ,   p   <   @   ;   @   (   @ - @   @   )   ,   p   <   @   ;   a n d   @   (   @ - @   @   )   ,   p   <   @   ,   r e s p e c t i v e l y   .',\n",
              " 'f u r t h e r   ,   t h e r e   w a s   a   c l i n i c a l l y   r e l e v a n t   r e d u c t i o n   i n   t h e   s e r u m   l e v e l s   o f   i l - @   ,   i l - @   ,   t n f   -   ,   a n d   h s c r p   a t   @   w e e k s   i n   t h e   i n t e r v e n t i o n   g r o u p   w h e n   c o m p a r e d   t o   t h e   p l a c e b o   g r o u p   .',\n",
              " 't h e s e   d i f f e r e n c e s   r e m a i n e d   s i g n i f i c a n t   a t   @   w e e k s   .']"
            ]
          },
          "metadata": {},
          "execution_count": 47
        }
      ],
      "source": [
        "train_char[:10]"
      ]
    },
    {
      "cell_type": "code",
      "execution_count": 48,
      "id": "a2a90d98",
      "metadata": {
        "id": "a2a90d98"
      },
      "outputs": [],
      "source": [
        "train_char_datasets = tf.data.Dataset.from_tensor_slices((train_char, train_one_hot)).batch(32).prefetch(tf.data.AUTOTUNE)\n",
        "val_char_datasets = tf.data.Dataset.from_tensor_slices((val_char, val_one_hot)).batch(32).prefetch(tf.data.AUTOTUNE)\n",
        "test_char_datasets = tf.data.Dataset.from_tensor_slices((test_char, test_one_hot)).batch(32).prefetch(tf.data.AUTOTUNE)"
      ]
    },
    {
      "cell_type": "code",
      "execution_count": 49,
      "id": "55d977cc",
      "metadata": {
        "colab": {
          "base_uri": "https://localhost:8080/"
        },
        "id": "55d977cc",
        "outputId": "7dccca40-5733-4897-a2d6-72721dcdcdb5"
      },
      "outputs": [
        {
          "output_type": "execute_result",
          "data": {
            "text/plain": [
              "<PrefetchDataset element_spec=(TensorSpec(shape=(None,), dtype=tf.string, name=None), TensorSpec(shape=(None, 5), dtype=tf.float64, name=None))>"
            ]
          },
          "metadata": {},
          "execution_count": 49
        }
      ],
      "source": [
        "train_char_datasets"
      ]
    },
    {
      "cell_type": "code",
      "execution_count": 50,
      "id": "fdc3c0fc",
      "metadata": {
        "colab": {
          "base_uri": "https://localhost:8080/"
        },
        "id": "fdc3c0fc",
        "outputId": "cf48b734-8437-4373-d608-3c6fecc89295"
      },
      "outputs": [
        {
          "output_type": "execute_result",
          "data": {
            "text/plain": [
              "('abcdefghijklmnopqrstuvwxyz0123456789!\"#$%&\\'()*+,-./:;<=>?@[\\\\]^_`{|}~', 68)"
            ]
          },
          "metadata": {},
          "execution_count": 50
        }
      ],
      "source": [
        "import string\n",
        "\n",
        "alpha_length = string.ascii_lowercase + string.digits + string.punctuation\n",
        "alpha_length , len(alpha_length)"
      ]
    },
    {
      "cell_type": "code",
      "execution_count": 51,
      "id": "cd38fcaf",
      "metadata": {
        "id": "cd38fcaf"
      },
      "outputs": [],
      "source": [
        "char_vector = layers.TextVectorization(len(alpha_length)+2, output_sequence_length=290)\n",
        "\n",
        "char_embed = layers.Embedding(len(alpha_length)+2 , 128, mask_zero= True)\n",
        "\n",
        "char_vector.adapt(train_char)"
      ]
    },
    {
      "cell_type": "markdown",
      "id": "512f501b",
      "metadata": {
        "id": "512f501b"
      },
      "source": [
        "## Createing a Convulational model using character embedding"
      ]
    },
    {
      "cell_type": "code",
      "execution_count": 52,
      "id": "c91b31cb",
      "metadata": {
        "colab": {
          "base_uri": "https://localhost:8080/"
        },
        "id": "c91b31cb",
        "outputId": "d5759cf9-75e3-4348-f063-b5d4a00f765b"
      },
      "outputs": [
        {
          "output_type": "execute_result",
          "data": {
            "text/plain": [
              "<bound method Model.summary of <keras.engine.functional.Functional object at 0x7fbfddef3e80>>"
            ]
          },
          "metadata": {},
          "execution_count": 52
        }
      ],
      "source": [
        "inputs = layers.Input(shape = (1,), dtype = \"string\")\n",
        "x = char_vector(inputs)\n",
        "x = char_embed(x)\n",
        "x = layers.Conv1D(64, 5, activation= \"tanh\")(x)\n",
        "x = layers.GlobalMaxPool1D()(x)\n",
        "x = layers.Dense(64, activation = \"tanh\")(x)\n",
        "outputs = layers.Dense(label_length , activation = \"softmax\")(x)\n",
        "\n",
        "model_3 = tf.keras.Model(inputs, outputs)\n",
        "\n",
        "model_3.compile(loss = \"categorical_crossentropy\",\n",
        "               optimizer = \"adam\",\n",
        "               metrics = [\"accuracy\"])\n",
        "\n",
        "model_3.summary"
      ]
    },
    {
      "cell_type": "code",
      "execution_count": 53,
      "id": "9769a9b1",
      "metadata": {
        "colab": {
          "base_uri": "https://localhost:8080/"
        },
        "id": "9769a9b1",
        "outputId": "460ed9c8-e965-4ad0-da85-82f8951273fe"
      },
      "outputs": [
        {
          "output_type": "stream",
          "name": "stdout",
          "text": [
            "Epoch 1/5\n",
            "562/562 [==============================] - 5s 7ms/step - loss: 1.1180 - accuracy: 0.5422 - val_loss: 0.9461 - val_accuracy: 0.6125\n",
            "Epoch 2/5\n",
            "562/562 [==============================] - 4s 6ms/step - loss: 0.9011 - accuracy: 0.6404 - val_loss: 0.8465 - val_accuracy: 0.6750\n",
            "Epoch 3/5\n",
            "562/562 [==============================] - 4s 7ms/step - loss: 0.8505 - accuracy: 0.6644 - val_loss: 0.8133 - val_accuracy: 0.6836\n",
            "Epoch 4/5\n",
            "562/562 [==============================] - 4s 6ms/step - loss: 0.8121 - accuracy: 0.6844 - val_loss: 0.8474 - val_accuracy: 0.6684\n",
            "Epoch 5/5\n",
            "562/562 [==============================] - 3s 6ms/step - loss: 0.8050 - accuracy: 0.6906 - val_loss: 0.7643 - val_accuracy: 0.7049\n"
          ]
        }
      ],
      "source": [
        "model_3_history = model_3.fit(train_char_datasets,\n",
        "                             epochs = 5,\n",
        "                             validation_data = val_char_datasets,\n",
        "                             steps_per_epoch = 0.1*len(train_char_datasets),\n",
        "                             validation_steps = 0.1*len(val_char_datasets))"
      ]
    },
    {
      "cell_type": "code",
      "execution_count": 54,
      "id": "4bb196e6",
      "metadata": {
        "colab": {
          "base_uri": "https://localhost:8080/"
        },
        "id": "4bb196e6",
        "outputId": "bd062b1b-c022-4f46-f3ae-2655b5f281c4"
      },
      "outputs": [
        {
          "output_type": "stream",
          "name": "stdout",
          "text": [
            "945/945 [==============================] - 4s 4ms/step - loss: 0.7752 - accuracy: 0.7012\n"
          ]
        },
        {
          "output_type": "execute_result",
          "data": {
            "text/plain": [
              "[0.7751944065093994, 0.7011783123016357]"
            ]
          },
          "metadata": {},
          "execution_count": 54
        }
      ],
      "source": [
        "model_3.evaluate(val_char_datasets)"
      ]
    },
    {
      "cell_type": "code",
      "execution_count": 55,
      "id": "73801696",
      "metadata": {
        "colab": {
          "base_uri": "https://localhost:8080/"
        },
        "id": "73801696",
        "outputId": "d0434d2b-4cee-4bd1-9a4b-2b6c731781c8"
      },
      "outputs": [
        {
          "output_type": "stream",
          "name": "stdout",
          "text": [
            "945/945 [==============================] - 3s 3ms/step\n"
          ]
        }
      ],
      "source": [
        "model_3_preds = model_3.predict(val_char_datasets)\n",
        "\n",
        "model_3_preds = tf.argmax(model_3_preds, 1)\n",
        "model_3_results = calculate_results(val_label_encoded, model_3_preds)"
      ]
    },
    {
      "cell_type": "code",
      "execution_count": 56,
      "id": "ae3c9a0d",
      "metadata": {
        "colab": {
          "base_uri": "https://localhost:8080/"
        },
        "id": "ae3c9a0d",
        "outputId": "9f9b51f0-2089-477c-de23-61474bb2ebf5"
      },
      "outputs": [
        {
          "output_type": "execute_result",
          "data": {
            "text/plain": [
              "{'accuracy': 70.11783397325566,\n",
              " 'precision': 0.7007768030079576,\n",
              " 'recall': 0.7011783397325566,\n",
              " 'f1': 0.6953356476126269}"
            ]
          },
          "metadata": {},
          "execution_count": 56
        }
      ],
      "source": [
        "model_3_results"
      ]
    },
    {
      "cell_type": "markdown",
      "id": "818b62d3",
      "metadata": {
        "id": "818b62d3"
      },
      "source": [
        "Now we will create a multimodel concatenating token level model and char level model\n",
        "Steps we will follow here are \n",
        "- Create a token level model\n",
        "- Create a char level model\n",
        "- Concatenate both the model and create another model\n",
        "- Use Dropout and create output layers and built final model"
      ]
    },
    {
      "cell_type": "code",
      "execution_count": 57,
      "id": "1686143b",
      "metadata": {
        "id": "1686143b"
      },
      "outputs": [],
      "source": [
        "# Creating token-input model\n",
        "token_input = layers.Input(shape = [], dtype = tf.string)\n",
        "token_embedding = tf_hub_embedding_layers(token_input)\n",
        "token_dense_layer = layers.Dense(128, activation = \"relu\")(token_embedding)\n",
        "token_output = layers.Dense(128, activation = \"relu\")(token_dense_layer)\n",
        "\n",
        "token_model = tf.keras.Model(token_input , token_output , name = \"Token_model\")\n",
        "\n",
        "# Creating char-input Model\n",
        "char_input = layers.Input(shape= (1,), dtype = tf.string)\n",
        "char_vectorizer = char_vector(char_input)\n",
        "char_embedding = char_embed(char_vectorizer)\n",
        "bi_layer = layers.Bidirectional(layers.LSTM(24), name = \"Bidirectional_layer\")(char_embedding)\n",
        "char_output = layers.Dense(128, activation = \"relu\", name = \"Char_output_layer\")(bi_layer)\n",
        "\n",
        "char_model = tf.keras.Model(char_input , char_output, name = \"char_model\")\n",
        "\n",
        "# Concatenating two models\n",
        "\n",
        "concat_layers = layers.concatenate([token_model.output, char_model.output])\n",
        "\n",
        "# Creating some dropout\n",
        "\n",
        "dropout_layers = layers.Dropout(0.5)(concat_layers)\n",
        "\n",
        "final_dense_layers = layers.Dense(128, activation = \"relu\")(dropout_layers)\n",
        "\n",
        "dropout_layers = layers.Dropout(0.5)(final_dense_layers)\n",
        "\n",
        "output_layers = layers.Dense(label_length, activation = \"softmax\")(dropout_layers)\n",
        "\n",
        "token_char_model = tf.keras.Model((token_model.input, char_model.input), output_layers)\n",
        "\n"
      ]
    },
    {
      "cell_type": "code",
      "execution_count": 58,
      "id": "83a6dc0c",
      "metadata": {
        "colab": {
          "base_uri": "https://localhost:8080/"
        },
        "id": "83a6dc0c",
        "outputId": "afe96851-361f-4d83-b6f4-41eca51c216e"
      },
      "outputs": [
        {
          "output_type": "stream",
          "name": "stdout",
          "text": [
            "Model: \"model_3\"\n",
            "__________________________________________________________________________________________________\n",
            " Layer (type)                   Output Shape         Param #     Connected to                     \n",
            "==================================================================================================\n",
            " input_5 (InputLayer)           [(None, 1)]          0           []                               \n",
            "                                                                                                  \n",
            " input_4 (InputLayer)           [(None,)]            0           []                               \n",
            "                                                                                                  \n",
            " text_vectorization_1 (TextVect  (None, 290)         0           ['input_5[0][0]']                \n",
            " orization)                                                                                       \n",
            "                                                                                                  \n",
            " unversal_sentence_encoder (Ker  (None, 512)         256797824   ['input_4[0][0]']                \n",
            " asLayer)                                                                                         \n",
            "                                                                                                  \n",
            " embedding_1 (Embedding)        (None, 290, 128)     8960        ['text_vectorization_1[1][0]']   \n",
            "                                                                                                  \n",
            " dense_6 (Dense)                (None, 128)          65664       ['unversal_sentence_encoder[1][0]\n",
            "                                                                 ']                               \n",
            "                                                                                                  \n",
            " Bidirectional_layer (Bidirecti  (None, 48)          29376       ['embedding_1[1][0]']            \n",
            " onal)                                                                                            \n",
            "                                                                                                  \n",
            " dense_7 (Dense)                (None, 128)          16512       ['dense_6[0][0]']                \n",
            "                                                                                                  \n",
            " Char_output_layer (Dense)      (None, 128)          6272        ['Bidirectional_layer[0][0]']    \n",
            "                                                                                                  \n",
            " concatenate (Concatenate)      (None, 256)          0           ['dense_7[0][0]',                \n",
            "                                                                  'Char_output_layer[0][0]']      \n",
            "                                                                                                  \n",
            " dropout (Dropout)              (None, 256)          0           ['concatenate[0][0]']            \n",
            "                                                                                                  \n",
            " dense_8 (Dense)                (None, 128)          32896       ['dropout[0][0]']                \n",
            "                                                                                                  \n",
            " dropout_1 (Dropout)            (None, 128)          0           ['dense_8[0][0]']                \n",
            "                                                                                                  \n",
            " dense_9 (Dense)                (None, 5)            645         ['dropout_1[0][0]']              \n",
            "                                                                                                  \n",
            "==================================================================================================\n",
            "Total params: 256,958,149\n",
            "Trainable params: 160,325\n",
            "Non-trainable params: 256,797,824\n",
            "__________________________________________________________________________________________________\n"
          ]
        }
      ],
      "source": [
        "token_char_model.summary()"
      ]
    },
    {
      "cell_type": "code",
      "execution_count": 59,
      "id": "3aa75ff5",
      "metadata": {
        "id": "3aa75ff5"
      },
      "outputs": [],
      "source": [
        "token_char_model.compile(loss = \"categorical_crossentropy\",\n",
        "                        optimizer = \"adam\",\n",
        "                        metrics = [\"accuracy\"])"
      ]
    },
    {
      "cell_type": "code",
      "execution_count": 60,
      "id": "cbc4d414",
      "metadata": {
        "id": "cbc4d414"
      },
      "outputs": [],
      "source": [
        "# Creating the training and validation datasets for token_char_model\n",
        "\n",
        "def transform(t_data, c_data, labels):\n",
        "    x = tf.data.Dataset.from_tensor_slices((t_data, c_data))\n",
        "    y = tf.data.Dataset.from_tensor_slices(labels)\n",
        "    return tf.data.Dataset.zip((x,y)).batch(32).prefetch(tf.data.AUTOTUNE)"
      ]
    },
    {
      "cell_type": "code",
      "execution_count": 61,
      "id": "1bfe9841",
      "metadata": {
        "id": "1bfe9841"
      },
      "outputs": [],
      "source": [
        "token_train_dataset = transform(train_sentences, train_char, train_one_hot)\n",
        "token_val_dataset = transform(val_sentences, val_char, val_one_hot)\n",
        "token_test_dataset = transform(test_sentences, test_char, test_one_hot)"
      ]
    },
    {
      "cell_type": "code",
      "execution_count": 62,
      "id": "0a14a932",
      "metadata": {
        "colab": {
          "base_uri": "https://localhost:8080/"
        },
        "id": "0a14a932",
        "outputId": "b69063d4-02a8-4d92-d355-4c2030168b7b"
      },
      "outputs": [
        {
          "output_type": "execute_result",
          "data": {
            "text/plain": [
              "<PrefetchDataset element_spec=((TensorSpec(shape=(None,), dtype=tf.string, name=None), TensorSpec(shape=(None,), dtype=tf.string, name=None)), TensorSpec(shape=(None, 5), dtype=tf.float64, name=None))>"
            ]
          },
          "metadata": {},
          "execution_count": 62
        }
      ],
      "source": [
        "token_train_dataset"
      ]
    },
    {
      "cell_type": "code",
      "execution_count": 63,
      "id": "e07fc7e1",
      "metadata": {
        "colab": {
          "base_uri": "https://localhost:8080/"
        },
        "id": "e07fc7e1",
        "outputId": "0e03ef13-ff31-4b66-d002-304b59229f96"
      },
      "outputs": [
        {
          "output_type": "stream",
          "name": "stdout",
          "text": [
            "Epoch 1/5\n",
            "562/562 [==============================] - 56s 77ms/step - loss: 0.9588 - accuracy: 0.6119 - val_loss: 0.7811 - val_accuracy: 0.6993\n",
            "Epoch 2/5\n",
            "562/562 [==============================] - 42s 75ms/step - loss: 0.7687 - accuracy: 0.7095 - val_loss: 0.6818 - val_accuracy: 0.7428\n",
            "Epoch 3/5\n",
            "562/562 [==============================] - 36s 63ms/step - loss: 0.7377 - accuracy: 0.7214 - val_loss: 0.6594 - val_accuracy: 0.7467\n",
            "Epoch 4/5\n",
            "562/562 [==============================] - 39s 69ms/step - loss: 0.7007 - accuracy: 0.7396 - val_loss: 0.6349 - val_accuracy: 0.7566\n",
            "Epoch 5/5\n",
            "562/562 [==============================] - 28s 50ms/step - loss: 0.6994 - accuracy: 0.7387 - val_loss: 0.6187 - val_accuracy: 0.7664\n"
          ]
        }
      ],
      "source": [
        "model_4_history = token_char_model.fit(token_train_dataset, epochs = 5,\n",
        "                                      steps_per_epoch=0.1*len(token_train_dataset),\n",
        "                                      validation_data = token_val_dataset,\n",
        "                                      validation_steps=0.1 *len(token_val_dataset))"
      ]
    },
    {
      "cell_type": "code",
      "execution_count": 64,
      "id": "fd4d824e",
      "metadata": {
        "colab": {
          "base_uri": "https://localhost:8080/"
        },
        "id": "fd4d824e",
        "outputId": "57ac468b-07f9-4d6a-b014-13cf3bebf81e"
      },
      "outputs": [
        {
          "output_type": "stream",
          "name": "stdout",
          "text": [
            "945/945 [==============================] - 30s 31ms/step - loss: 0.6272 - accuracy: 0.7607\n"
          ]
        },
        {
          "output_type": "execute_result",
          "data": {
            "text/plain": [
              "[0.6271668672561646, 0.7606911063194275]"
            ]
          },
          "metadata": {},
          "execution_count": 64
        }
      ],
      "source": [
        "token_char_model.evaluate(token_val_dataset)"
      ]
    },
    {
      "cell_type": "code",
      "execution_count": 65,
      "id": "6b3d2702",
      "metadata": {
        "colab": {
          "base_uri": "https://localhost:8080/"
        },
        "id": "6b3d2702",
        "outputId": "52586dc0-9ad0-4a38-daba-541ab81ddedd"
      },
      "outputs": [
        {
          "output_type": "stream",
          "name": "stdout",
          "text": [
            "945/945 [==============================] - 31s 28ms/step\n"
          ]
        }
      ],
      "source": [
        "token_char_predict = token_char_model.predict(token_val_dataset)"
      ]
    },
    {
      "cell_type": "code",
      "source": [
        "token_char_predict"
      ],
      "metadata": {
        "colab": {
          "base_uri": "https://localhost:8080/"
        },
        "id": "THuSN1ESTpps",
        "outputId": "10da4660-e1b6-4aad-fd4b-0f50fb951e3c"
      },
      "id": "THuSN1ESTpps",
      "execution_count": 66,
      "outputs": [
        {
          "output_type": "execute_result",
          "data": {
            "text/plain": [
              "array([[5.79136431e-01, 2.30903938e-01, 3.70363868e-03, 1.81854904e-01,\n",
              "        4.40112082e-03],\n",
              "       [4.34323937e-01, 4.29936498e-01, 6.42847223e-03, 1.24422029e-01,\n",
              "        4.88900859e-03],\n",
              "       [3.67752790e-01, 2.12752689e-02, 3.64600681e-02, 5.69913983e-01,\n",
              "        4.59787576e-03],\n",
              "       ...,\n",
              "       [3.29002214e-05, 1.65539887e-03, 1.15700047e-02, 1.20942232e-05,\n",
              "        9.86729622e-01],\n",
              "       [1.94411706e-02, 7.78325275e-02, 4.00425315e-01, 1.01953745e-02,\n",
              "        4.92105633e-01],\n",
              "       [2.00959116e-01, 7.61357725e-01, 2.34914515e-02, 8.16782098e-03,\n",
              "        6.02393132e-03]], dtype=float32)"
            ]
          },
          "metadata": {},
          "execution_count": 66
        }
      ]
    },
    {
      "cell_type": "code",
      "execution_count": 67,
      "id": "f5c62815",
      "metadata": {
        "colab": {
          "base_uri": "https://localhost:8080/"
        },
        "id": "f5c62815",
        "outputId": "d2a99d95-8ff5-4f3b-b123-041324b6960c"
      },
      "outputs": [
        {
          "output_type": "execute_result",
          "data": {
            "text/plain": [
              "{'accuracy': 76.06911161128028,\n",
              " 'precision': 0.7572015247647448,\n",
              " 'recall': 0.7606911161128028,\n",
              " 'f1': 0.757473188348974}"
            ]
          },
          "metadata": {},
          "execution_count": 67
        }
      ],
      "source": [
        "token_char_predicts = tf.argmax(token_char_predict, 1)\n",
        "\n",
        "token_char_model_results = calculate_results(val_label_encoded, token_char_predicts)\n",
        "\n",
        "token_char_model_results"
      ]
    },
    {
      "cell_type": "markdown",
      "id": "4c996107",
      "metadata": {
        "id": "4c996107"
      },
      "source": [
        "# Model 5 ( Pretrained Token embedding + Char Embedding + Total Line Model + Line number Model)\n",
        "### Positional Embedding"
      ]
    },
    {
      "cell_type": "code",
      "execution_count": 68,
      "id": "b91054c4",
      "metadata": {
        "colab": {
          "base_uri": "https://localhost:8080/",
          "height": 424
        },
        "id": "b91054c4",
        "outputId": "df5f5fbf-2c8b-4b21-b3f3-cccea13ef5c7"
      },
      "outputs": [
        {
          "output_type": "execute_result",
          "data": {
            "text/plain": [
              "             target                                               text  \\\n",
              "0         OBJECTIVE  to investigate the efficacy of @ weeks of dail...   \n",
              "1           METHODS  a total of @ patients with primary knee oa wer...   \n",
              "2           METHODS  outcome measures included pain reduction and i...   \n",
              "3           METHODS  pain was assessed using the visual analog pain...   \n",
              "4           METHODS  secondary outcome measures included the wester...   \n",
              "...             ...                                                ...   \n",
              "180035      RESULTS  for the absolute change in percent atheroma vo...   \n",
              "180036      RESULTS  for pav , a significantly greater percentage o...   \n",
              "180037      RESULTS  both strategies had acceptable side effect pro...   \n",
              "180038  CONCLUSIONS  compared with standard statin monotherapy , th...   \n",
              "180039  CONCLUSIONS  ( plaque regression with cholesterol absorptio...   \n",
              "\n",
              "        line_number  total_line  \n",
              "0                 0          11  \n",
              "1                 1          11  \n",
              "2                 2          11  \n",
              "3                 3          11  \n",
              "4                 4          11  \n",
              "...             ...         ...  \n",
              "180035            7          11  \n",
              "180036            8          11  \n",
              "180037            9          11  \n",
              "180038           10          11  \n",
              "180039           11          11  \n",
              "\n",
              "[180040 rows x 4 columns]"
            ],
            "text/html": [
              "\n",
              "  <div id=\"df-bf28b9a2-b032-410a-a5bb-7b727f9b20e4\">\n",
              "    <div class=\"colab-df-container\">\n",
              "      <div>\n",
              "<style scoped>\n",
              "    .dataframe tbody tr th:only-of-type {\n",
              "        vertical-align: middle;\n",
              "    }\n",
              "\n",
              "    .dataframe tbody tr th {\n",
              "        vertical-align: top;\n",
              "    }\n",
              "\n",
              "    .dataframe thead th {\n",
              "        text-align: right;\n",
              "    }\n",
              "</style>\n",
              "<table border=\"1\" class=\"dataframe\">\n",
              "  <thead>\n",
              "    <tr style=\"text-align: right;\">\n",
              "      <th></th>\n",
              "      <th>target</th>\n",
              "      <th>text</th>\n",
              "      <th>line_number</th>\n",
              "      <th>total_line</th>\n",
              "    </tr>\n",
              "  </thead>\n",
              "  <tbody>\n",
              "    <tr>\n",
              "      <th>0</th>\n",
              "      <td>OBJECTIVE</td>\n",
              "      <td>to investigate the efficacy of @ weeks of dail...</td>\n",
              "      <td>0</td>\n",
              "      <td>11</td>\n",
              "    </tr>\n",
              "    <tr>\n",
              "      <th>1</th>\n",
              "      <td>METHODS</td>\n",
              "      <td>a total of @ patients with primary knee oa wer...</td>\n",
              "      <td>1</td>\n",
              "      <td>11</td>\n",
              "    </tr>\n",
              "    <tr>\n",
              "      <th>2</th>\n",
              "      <td>METHODS</td>\n",
              "      <td>outcome measures included pain reduction and i...</td>\n",
              "      <td>2</td>\n",
              "      <td>11</td>\n",
              "    </tr>\n",
              "    <tr>\n",
              "      <th>3</th>\n",
              "      <td>METHODS</td>\n",
              "      <td>pain was assessed using the visual analog pain...</td>\n",
              "      <td>3</td>\n",
              "      <td>11</td>\n",
              "    </tr>\n",
              "    <tr>\n",
              "      <th>4</th>\n",
              "      <td>METHODS</td>\n",
              "      <td>secondary outcome measures included the wester...</td>\n",
              "      <td>4</td>\n",
              "      <td>11</td>\n",
              "    </tr>\n",
              "    <tr>\n",
              "      <th>...</th>\n",
              "      <td>...</td>\n",
              "      <td>...</td>\n",
              "      <td>...</td>\n",
              "      <td>...</td>\n",
              "    </tr>\n",
              "    <tr>\n",
              "      <th>180035</th>\n",
              "      <td>RESULTS</td>\n",
              "      <td>for the absolute change in percent atheroma vo...</td>\n",
              "      <td>7</td>\n",
              "      <td>11</td>\n",
              "    </tr>\n",
              "    <tr>\n",
              "      <th>180036</th>\n",
              "      <td>RESULTS</td>\n",
              "      <td>for pav , a significantly greater percentage o...</td>\n",
              "      <td>8</td>\n",
              "      <td>11</td>\n",
              "    </tr>\n",
              "    <tr>\n",
              "      <th>180037</th>\n",
              "      <td>RESULTS</td>\n",
              "      <td>both strategies had acceptable side effect pro...</td>\n",
              "      <td>9</td>\n",
              "      <td>11</td>\n",
              "    </tr>\n",
              "    <tr>\n",
              "      <th>180038</th>\n",
              "      <td>CONCLUSIONS</td>\n",
              "      <td>compared with standard statin monotherapy , th...</td>\n",
              "      <td>10</td>\n",
              "      <td>11</td>\n",
              "    </tr>\n",
              "    <tr>\n",
              "      <th>180039</th>\n",
              "      <td>CONCLUSIONS</td>\n",
              "      <td>( plaque regression with cholesterol absorptio...</td>\n",
              "      <td>11</td>\n",
              "      <td>11</td>\n",
              "    </tr>\n",
              "  </tbody>\n",
              "</table>\n",
              "<p>180040 rows × 4 columns</p>\n",
              "</div>\n",
              "      <button class=\"colab-df-convert\" onclick=\"convertToInteractive('df-bf28b9a2-b032-410a-a5bb-7b727f9b20e4')\"\n",
              "              title=\"Convert this dataframe to an interactive table.\"\n",
              "              style=\"display:none;\">\n",
              "        \n",
              "  <svg xmlns=\"http://www.w3.org/2000/svg\" height=\"24px\"viewBox=\"0 0 24 24\"\n",
              "       width=\"24px\">\n",
              "    <path d=\"M0 0h24v24H0V0z\" fill=\"none\"/>\n",
              "    <path d=\"M18.56 5.44l.94 2.06.94-2.06 2.06-.94-2.06-.94-.94-2.06-.94 2.06-2.06.94zm-11 1L8.5 8.5l.94-2.06 2.06-.94-2.06-.94L8.5 2.5l-.94 2.06-2.06.94zm10 10l.94 2.06.94-2.06 2.06-.94-2.06-.94-.94-2.06-.94 2.06-2.06.94z\"/><path d=\"M17.41 7.96l-1.37-1.37c-.4-.4-.92-.59-1.43-.59-.52 0-1.04.2-1.43.59L10.3 9.45l-7.72 7.72c-.78.78-.78 2.05 0 2.83L4 21.41c.39.39.9.59 1.41.59.51 0 1.02-.2 1.41-.59l7.78-7.78 2.81-2.81c.8-.78.8-2.07 0-2.86zM5.41 20L4 18.59l7.72-7.72 1.47 1.35L5.41 20z\"/>\n",
              "  </svg>\n",
              "      </button>\n",
              "      \n",
              "  <style>\n",
              "    .colab-df-container {\n",
              "      display:flex;\n",
              "      flex-wrap:wrap;\n",
              "      gap: 12px;\n",
              "    }\n",
              "\n",
              "    .colab-df-convert {\n",
              "      background-color: #E8F0FE;\n",
              "      border: none;\n",
              "      border-radius: 50%;\n",
              "      cursor: pointer;\n",
              "      display: none;\n",
              "      fill: #1967D2;\n",
              "      height: 32px;\n",
              "      padding: 0 0 0 0;\n",
              "      width: 32px;\n",
              "    }\n",
              "\n",
              "    .colab-df-convert:hover {\n",
              "      background-color: #E2EBFA;\n",
              "      box-shadow: 0px 1px 2px rgba(60, 64, 67, 0.3), 0px 1px 3px 1px rgba(60, 64, 67, 0.15);\n",
              "      fill: #174EA6;\n",
              "    }\n",
              "\n",
              "    [theme=dark] .colab-df-convert {\n",
              "      background-color: #3B4455;\n",
              "      fill: #D2E3FC;\n",
              "    }\n",
              "\n",
              "    [theme=dark] .colab-df-convert:hover {\n",
              "      background-color: #434B5C;\n",
              "      box-shadow: 0px 1px 3px 1px rgba(0, 0, 0, 0.15);\n",
              "      filter: drop-shadow(0px 1px 2px rgba(0, 0, 0, 0.3));\n",
              "      fill: #FFFFFF;\n",
              "    }\n",
              "  </style>\n",
              "\n",
              "      <script>\n",
              "        const buttonEl =\n",
              "          document.querySelector('#df-bf28b9a2-b032-410a-a5bb-7b727f9b20e4 button.colab-df-convert');\n",
              "        buttonEl.style.display =\n",
              "          google.colab.kernel.accessAllowed ? 'block' : 'none';\n",
              "\n",
              "        async function convertToInteractive(key) {\n",
              "          const element = document.querySelector('#df-bf28b9a2-b032-410a-a5bb-7b727f9b20e4');\n",
              "          const dataTable =\n",
              "            await google.colab.kernel.invokeFunction('convertToInteractive',\n",
              "                                                     [key], {});\n",
              "          if (!dataTable) return;\n",
              "\n",
              "          const docLinkHtml = 'Like what you see? Visit the ' +\n",
              "            '<a target=\"_blank\" href=https://colab.research.google.com/notebooks/data_table.ipynb>data table notebook</a>'\n",
              "            + ' to learn more about interactive tables.';\n",
              "          element.innerHTML = '';\n",
              "          dataTable['output_type'] = 'display_data';\n",
              "          await google.colab.output.renderOutput(dataTable, element);\n",
              "          const docLink = document.createElement('div');\n",
              "          docLink.innerHTML = docLinkHtml;\n",
              "          element.appendChild(docLink);\n",
              "        }\n",
              "      </script>\n",
              "    </div>\n",
              "  </div>\n",
              "  "
            ]
          },
          "metadata": {},
          "execution_count": 68
        }
      ],
      "source": [
        "train_df"
      ]
    },
    {
      "cell_type": "code",
      "execution_count": 69,
      "id": "8f9e609c",
      "metadata": {
        "id": "8f9e609c"
      },
      "outputs": [],
      "source": [
        "train_one_hot_line_num = tf.one_hot(train_df[\"line_number\"].to_numpy(), depth=16)\n",
        "train_one_hot_total_line = tf.one_hot(train_df[\"total_line\"].to_numpy(), depth =20 )\n",
        "\n",
        "val_one_hot_line_num = tf.one_hot(val_df[\"line_number\"].to_numpy(), depth=16)\n",
        "val_one_hot_total_line = tf.one_hot(val_df[\"total_line\"].to_numpy(), depth =20 )\n",
        "\n",
        "test_one_hot_line_num = tf.one_hot(test_df[\"line_number\"].to_numpy(), depth=16)\n",
        "test_one_hot_total_line = tf.one_hot(test_df[\"total_line\"].to_numpy(), depth =20 )"
      ]
    },
    {
      "cell_type": "code",
      "execution_count": 70,
      "id": "ddb5c3e1",
      "metadata": {
        "id": "ddb5c3e1"
      },
      "outputs": [],
      "source": [
        "def transforms(t_data,c_data, line_num, total_line, target):\n",
        "    x = tf.data.Dataset.from_tensor_slices((t_data,c_data , line_num, total_line))\n",
        "    y = tf.data.Dataset.from_tensor_slices(target)\n",
        "    z = tf.data.Dataset.zip((x,y)).batch(32).prefetch(tf.data.AUTOTUNE)\n",
        "    return z"
      ]
    },
    {
      "cell_type": "code",
      "execution_count": 71,
      "id": "70d53e7b",
      "metadata": {
        "id": "70d53e7b"
      },
      "outputs": [],
      "source": [
        "positional_train_dataset = transforms(train_sentences,\n",
        "                                      train_char, \n",
        "                                      train_one_hot_line_num,\n",
        "                                      train_one_hot_total_line,\n",
        "                                      train_one_hot)\n",
        "\n",
        "positional_val_dataset = transforms(val_sentences,\n",
        "                                    val_char,\n",
        "                                    val_one_hot_line_num,\n",
        "                                    val_one_hot_total_line,\n",
        "                                    val_one_hot)\n",
        "\n",
        "positional_test_dataset = transforms(test_sentences,\n",
        "                                    test_char,\n",
        "                                    test_one_hot_line_num,\n",
        "                                    test_one_hot_total_line,\n",
        "                                     test_one_hot)\n",
        "\n"
      ]
    },
    {
      "cell_type": "code",
      "execution_count": 72,
      "id": "076bd3ec",
      "metadata": {
        "colab": {
          "base_uri": "https://localhost:8080/"
        },
        "id": "076bd3ec",
        "outputId": "6698ee08-5859-4210-ad7b-ce61460fb06a"
      },
      "outputs": [
        {
          "output_type": "stream",
          "name": "stdout",
          "text": [
            "Model: \"model_7\"\n",
            "__________________________________________________________________________________________________\n",
            " Layer (type)                   Output Shape         Param #     Connected to                     \n",
            "==================================================================================================\n",
            " input_6 (InputLayer)           [(None, 1)]          0           []                               \n",
            "                                                                                                  \n",
            " text_vectorization_1 (TextVect  (None, 290)         0           ['input_6[0][0]']                \n",
            " orization)                                                                                       \n",
            "                                                                                                  \n",
            " Token_Model_Input (InputLayer)  [(None,)]           0           []                               \n",
            "                                                                                                  \n",
            " embedding_1 (Embedding)        (None, 290, 128)     8960        ['text_vectorization_1[2][0]']   \n",
            "                                                                                                  \n",
            " unversal_sentence_encoder (Ker  (None, 512)         256797824   ['Token_Model_Input[0][0]']      \n",
            " asLayer)                                                                                         \n",
            "                                                                                                  \n",
            " dense_11 (Dense)               (None, 290, 264)     34056       ['embedding_1[2][0]']            \n",
            "                                                                                                  \n",
            " dense_10 (Dense)               (None, 264)          135432      ['unversal_sentence_encoder[2][0]\n",
            "                                                                 ']                               \n",
            "                                                                                                  \n",
            " bidirectional (Bidirectional)  (None, 48)           55488       ['dense_11[0][0]']               \n",
            "                                                                                                  \n",
            " input_7 (InputLayer)           [(None, 16)]         0           []                               \n",
            "                                                                                                  \n",
            " input_8 (InputLayer)           [(None, 20)]         0           []                               \n",
            "                                                                                                  \n",
            " Token_Model_Output (Dense)     (None, 64)           16960       ['dense_10[0][0]']               \n",
            "                                                                                                  \n",
            " dense_12 (Dense)               (None, 64)           3136        ['bidirectional[0][0]']          \n",
            "                                                                                                  \n",
            " dense_13 (Dense)               (None, 64)           1088        ['input_7[0][0]']                \n",
            "                                                                                                  \n",
            " dense_15 (Dense)               (None, 64)           1344        ['input_8[0][0]']                \n",
            "                                                                                                  \n",
            " concatenate_1 (Concatenate)    (None, 128)          0           ['Token_Model_Output[0][0]',     \n",
            "                                                                  'dense_12[0][0]']               \n",
            "                                                                                                  \n",
            " dense_14 (Dense)               (None, 64)           4160        ['dense_13[0][0]']               \n",
            "                                                                                                  \n",
            " dense_16 (Dense)               (None, 64)           4160        ['dense_15[0][0]']               \n",
            "                                                                                                  \n",
            " concatenate_2 (Concatenate)    (None, 256)          0           ['concatenate_1[0][0]',          \n",
            "                                                                  'dense_14[0][0]',               \n",
            "                                                                  'dense_16[0][0]']               \n",
            "                                                                                                  \n",
            " dense_18 (Dense)               (None, 5)            1285        ['concatenate_2[0][0]']          \n",
            "                                                                                                  \n",
            "==================================================================================================\n",
            "Total params: 257,063,893\n",
            "Trainable params: 266,069\n",
            "Non-trainable params: 256,797,824\n",
            "__________________________________________________________________________________________________\n"
          ]
        }
      ],
      "source": [
        "# creating a token model\n",
        "\n",
        "token_input = layers.Input(shape = [], dtype = tf.string, name = \"Token_Model_Input\")\n",
        "token_embedding_layer = tf_hub_embedding_layers(token_input)\n",
        "token_dense = layers.Dense(264, activation = \"relu\")(token_embedding_layer)\n",
        "token_output = layers.Dense(64, activation = \"relu\", name =\"Token_Model_Output\")(token_dense)\n",
        "\n",
        "# token model \n",
        "\n",
        "token_model = tf.keras.Model(token_input, token_output, name = \"Token_Model \")\n",
        "\n",
        "# creating a character model \n",
        "\n",
        "char_input = layers.Input(shape = (1,), dtype =  tf.string)\n",
        "char_vectorizer = char_vector(char_input)\n",
        "char_embedding = char_embed(char_vectorizer)\n",
        "char_dense = layers.Dense(264, activation = \"relu\")(char_embedding)\n",
        "bi_dire = layers.Bidirectional(layers.LSTM(24))(char_dense)\n",
        "char_output = layers.Dense(64, activation =\"relu\")(bi_dire)\n",
        "\n",
        "# character model\n",
        "\n",
        "char_model = tf.keras.Model(char_input, char_output)\n",
        "\n",
        "# concatenate token and char model\n",
        "\n",
        "token_char_concat = layers.Concatenate()([token_model.output, char_model.output])\n",
        "\n",
        "# create a  model from line number \n",
        "\n",
        "line_input = layers.Input(shape = (16,), dtype = tf.float32)\n",
        "line_dense = layers.Dense(64, activation = \"relu\")(line_input)\n",
        "line_output = layers.Dense(64, activation = \"relu\")(line_dense)\n",
        "\n",
        "# line model \n",
        "\n",
        "line_model = tf.keras.Model(line_input, line_output)\n",
        "\n",
        "# create a model from total line \n",
        "\n",
        "total_line_input = layers.Input(shape = (20, ), dtype = tf.float32)\n",
        "total_dense = layers.Dense(64, activation = \"relu\")(total_line_input)\n",
        "total_output = layers.Dense(64, activation = \"relu\")(total_dense)\n",
        "\n",
        "# total line model \n",
        "\n",
        "total_line_model = tf.keras.Model(total_line_input, total_output)\n",
        "\n",
        "# concatinating all the model\n",
        "\n",
        "final_concat = layers.Concatenate()([token_char_concat,\n",
        "                                     line_model.output,\n",
        "                                   total_line_model.output,])\n",
        "\n",
        "dropout_layers = layers.Dropout(0.5)(final_concat)\n",
        "\n",
        "final_dense_layers = layers.Dense(128, activation = \"relu\")(dropout_layers)\n",
        "\n",
        "dropout_layers = layers.Dropout(0.5)(final_dense_layers)\n",
        "# final output layers\n",
        "\n",
        "output_layer = layers.Dense(5 , activation = \"softmax\")(final_concat)\n",
        "\n",
        "\n",
        "# final model \n",
        "\n",
        "model_5 = tf.keras.Model( [token_model.input, char_model.input,line_model.input, total_line_model.input], output_layer)\n",
        "\n",
        "model_5.summary()"
      ]
    },
    {
      "cell_type": "code",
      "source": [
        "model_5.compile(loss = \"categorical_crossentropy\",\n",
        "                optimizer = \"adam\",\n",
        "                metrics = [\"accuracy\"])\n",
        "\n",
        "model_5_history = model_5.fit(positional_train_dataset,\n",
        "                              epochs = 5,\n",
        "                              validation_data = positional_val_dataset)"
      ],
      "metadata": {
        "colab": {
          "base_uri": "https://localhost:8080/"
        },
        "id": "qni5PoMHRp7z",
        "outputId": "5c8a403d-d61a-49fc-c8d5-8f3162a05e6e"
      },
      "id": "qni5PoMHRp7z",
      "execution_count": 73,
      "outputs": [
        {
          "output_type": "stream",
          "name": "stdout",
          "text": [
            "Epoch 1/5\n",
            "5627/5627 [==============================] - 325s 56ms/step - loss: 0.4250 - accuracy: 0.8372 - val_loss: 0.3628 - val_accuracy: 0.8585\n",
            "Epoch 2/5\n",
            "5627/5627 [==============================] - 312s 56ms/step - loss: 0.3496 - accuracy: 0.8685 - val_loss: 0.3456 - val_accuracy: 0.8666\n",
            "Epoch 3/5\n",
            "5627/5627 [==============================] - 308s 55ms/step - loss: 0.3216 - accuracy: 0.8794 - val_loss: 0.3450 - val_accuracy: 0.8672\n",
            "Epoch 4/5\n",
            "5627/5627 [==============================] - 306s 54ms/step - loss: 0.2982 - accuracy: 0.8883 - val_loss: 0.3488 - val_accuracy: 0.8674\n",
            "Epoch 5/5\n",
            "5627/5627 [==============================] - 297s 53ms/step - loss: 0.2769 - accuracy: 0.8972 - val_loss: 0.3594 - val_accuracy: 0.8650\n"
          ]
        }
      ]
    },
    {
      "cell_type": "code",
      "source": [
        "model_5.evaluate(positional_val_dataset)"
      ],
      "metadata": {
        "colab": {
          "base_uri": "https://localhost:8080/"
        },
        "id": "7FrjZRalyRMX",
        "outputId": "81c53c93-bbfe-4157-d8be-ea522195b2a8"
      },
      "id": "7FrjZRalyRMX",
      "execution_count": 74,
      "outputs": [
        {
          "output_type": "stream",
          "name": "stdout",
          "text": [
            "945/945 [==============================] - 26s 28ms/step - loss: 0.3594 - accuracy: 0.8650\n"
          ]
        },
        {
          "output_type": "execute_result",
          "data": {
            "text/plain": [
              "[0.3594072163105011, 0.8649874329566956]"
            ]
          },
          "metadata": {},
          "execution_count": 74
        }
      ]
    },
    {
      "cell_type": "code",
      "source": [
        "model_5_preds = model_5.predict(positional_val_dataset)\n",
        "\n",
        "model_5_preds = tf.argmax(model_5_preds, 1)\n"
      ],
      "metadata": {
        "colab": {
          "base_uri": "https://localhost:8080/"
        },
        "id": "HKjKFgUWQpVw",
        "outputId": "f2420337-c878-42b9-b19a-69fa3f5e7842"
      },
      "id": "HKjKFgUWQpVw",
      "execution_count": 75,
      "outputs": [
        {
          "output_type": "stream",
          "name": "stdout",
          "text": [
            "945/945 [==============================] - 27s 26ms/step\n"
          ]
        }
      ]
    },
    {
      "cell_type": "code",
      "source": [
        "calculate_results(val_label_encoded, model_5_preds)"
      ],
      "metadata": {
        "colab": {
          "base_uri": "https://localhost:8080/"
        },
        "id": "6cXFT5EXQ64E",
        "outputId": "c1631907-740a-4ea9-eee0-7d914f8cd831"
      },
      "id": "6cXFT5EXQ64E",
      "execution_count": 76,
      "outputs": [
        {
          "output_type": "execute_result",
          "data": {
            "text/plain": [
              "{'accuracy': 86.49874222163379,\n",
              " 'precision': 0.8642620435361053,\n",
              " 'recall': 0.8649874222163378,\n",
              " 'f1': 0.8630088900295084}"
            ]
          },
          "metadata": {},
          "execution_count": 76
        }
      ]
    },
    {
      "cell_type": "code",
      "source": [
        "from tensorflow.keras.utils import plot_model\n",
        "\n",
        "plot_model(model_5)"
      ],
      "metadata": {
        "colab": {
          "base_uri": "https://localhost:8080/",
          "height": 847
        },
        "id": "_t0qZgaiRQsS",
        "outputId": "bc9672eb-15d6-40f4-a5e0-e1bca1ea31a3"
      },
      "id": "_t0qZgaiRQsS",
      "execution_count": 77,
      "outputs": [
        {
          "output_type": "execute_result",
          "data": {
            "image/png": "[encoded data removed]",
            "text/plain": [
              "<IPython.core.display.Image object>"
            ]
          },
          "metadata": {},
          "execution_count": 77
        }
      ]
    },
    {
      "cell_type": "code",
      "source": [],
      "metadata": {
        "id": "1Sqeh1jZcDr4"
      },
      "id": "1Sqeh1jZcDr4",
      "execution_count": null,
      "outputs": []
    }
  ],
  "metadata": {
    "kernelspec": {
      "display_name": "Python 3 (ipykernel)",
      "language": "python",
      "name": "python3"
    },
    "language_info": {
      "codemirror_mode": {
        "name": "ipython",
        "version": 3
      },
      "file_extension": ".py",
      "mimetype": "text/x-python",
      "name": "python",
      "nbconvert_exporter": "python",
      "pygments_lexer": "ipython3",
      "version": "3.10.6"
    },
    "colab": {
      "provenance": []
    },
    "gpuClass": "standard",
    "accelerator": "GPU"
  },
  "nbformat": 4,
  "nbformat_minor": 5
}